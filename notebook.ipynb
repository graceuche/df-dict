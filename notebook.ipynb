{
 "cells": [
  {
   "cell_type": "markdown",
   "source": "# Making a Dataframe from a Dictionary",
   "metadata": {
    "cell_id": "671a008ad71c43f396b77b524bedb7e9",
    "tags": [],
    "deepnote_cell_type": "markdown",
    "deepnote_cell_height": 82
   }
  },
  {
   "cell_type": "code",
   "source": "import pandas as pd",
   "metadata": {
    "cell_id": "a3fb48a6b84c46fd97443628072cd1cb",
    "tags": [],
    "deepnote_to_be_reexecuted": false,
    "source_hash": "9b82ee11",
    "execution_start": 1647983003698,
    "execution_millis": 21,
    "deepnote_cell_type": "code",
    "deepnote_cell_height": 81
   },
   "outputs": [],
   "execution_count": 1
  },
  {
   "cell_type": "code",
   "source": "populations = {'cities': [\"Miami\", \"Boston\", \"Detroit\"],'populations': ['467,968', '684,379', '674,841']}",
   "metadata": {
    "cell_id": "5930fe2e0b934f23b08a56c111b69a10",
    "tags": [],
    "deepnote_to_be_reexecuted": false,
    "source_hash": "4bd037dc",
    "execution_start": 1647983647924,
    "execution_millis": 0,
    "deepnote_cell_type": "code",
    "deepnote_cell_height": 81
   },
   "outputs": [],
   "execution_count": 3
  },
  {
   "cell_type": "code",
   "source": "df_pops = pd.DataFrame(populations)\ndf_pops ",
   "metadata": {
    "cell_id": "eee764e96dc9456e986caa2d17869953",
    "tags": [],
    "deepnote_to_be_reexecuted": false,
    "source_hash": "23179798",
    "execution_start": 1647983757637,
    "execution_millis": 9,
    "deepnote_cell_type": "code",
    "deepnote_cell_height": 329
   },
   "outputs": [
    {
     "output_type": "execute_result",
     "execution_count": 5,
     "data": {
      "application/vnd.deepnote.dataframe.v3+json": {
       "column_count": 2,
       "row_count": 3,
       "columns": [
        {
         "name": "cities",
         "dtype": "object",
         "stats": {
          "unique_count": 3,
          "nan_count": 0,
          "categories": [
           {
            "name": "Miami",
            "count": 1
           },
           {
            "name": "Boston",
            "count": 1
           },
           {
            "name": "Detroit",
            "count": 1
           }
          ]
         }
        },
        {
         "name": "populations",
         "dtype": "object",
         "stats": {
          "unique_count": 3,
          "nan_count": 0,
          "categories": [
           {
            "name": "467,968",
            "count": 1
           },
           {
            "name": "684,379",
            "count": 1
           },
           {
            "name": "674,841",
            "count": 1
           }
          ]
         }
        },
        {
         "name": "_deepnote_index_column",
         "dtype": "int64"
        }
       ],
       "rows": [
        {
         "cities": "Miami",
         "populations": "467,968",
         "_deepnote_index_column": 0
        },
        {
         "cities": "Boston",
         "populations": "684,379",
         "_deepnote_index_column": 1
        },
        {
         "cities": "Detroit",
         "populations": "674,841",
         "_deepnote_index_column": 2
        }
       ]
      },
      "text/plain": "    cities populations\n0    Miami     467,968\n1   Boston     684,379\n2  Detroit     674,841",
      "text/html": "<div>\n<style scoped>\n    .dataframe tbody tr th:only-of-type {\n        vertical-align: middle;\n    }\n\n    .dataframe tbody tr th {\n        vertical-align: top;\n    }\n\n    .dataframe thead th {\n        text-align: right;\n    }\n</style>\n<table border=\"1\" class=\"dataframe\">\n  <thead>\n    <tr style=\"text-align: right;\">\n      <th></th>\n      <th>cities</th>\n      <th>populations</th>\n    </tr>\n  </thead>\n  <tbody>\n    <tr>\n      <th>0</th>\n      <td>Miami</td>\n      <td>467,968</td>\n    </tr>\n    <tr>\n      <th>1</th>\n      <td>Boston</td>\n      <td>684,379</td>\n    </tr>\n    <tr>\n      <th>2</th>\n      <td>Detroit</td>\n      <td>674,841</td>\n    </tr>\n  </tbody>\n</table>\n</div>"
     },
     "metadata": {}
    }
   ],
   "execution_count": 5
  },
  {
   "cell_type": "code",
   "source": "",
   "metadata": {
    "cell_id": "4c1265e21aeb43589720b389296a6407",
    "tags": [],
    "deepnote_cell_type": "code",
    "deepnote_cell_height": 66
   },
   "outputs": [],
   "execution_count": null
  },
  {
   "cell_type": "code",
   "source": "df_pops['populations'] = df_pops['populations'].str.replace(',','') # to get ride of all the commas/symbols",
   "metadata": {
    "cell_id": "374eb6f269564eb195c32d996fdcf13f",
    "tags": [],
    "deepnote_to_be_reexecuted": false,
    "source_hash": "57b86dbb",
    "execution_start": 1647984261044,
    "execution_millis": 0,
    "deepnote_cell_type": "code",
    "deepnote_cell_height": 81
   },
   "outputs": [],
   "execution_count": 8
  },
  {
   "cell_type": "code",
   "source": "df_pops",
   "metadata": {
    "cell_id": "8971b54e817f4841ac394c1d5dc70167",
    "tags": [],
    "deepnote_to_be_reexecuted": false,
    "source_hash": "e7de0da5",
    "execution_start": 1647984277346,
    "execution_millis": 12,
    "deepnote_cell_type": "code",
    "deepnote_cell_height": 311
   },
   "outputs": [
    {
     "output_type": "execute_result",
     "execution_count": 9,
     "data": {
      "application/vnd.deepnote.dataframe.v3+json": {
       "column_count": 2,
       "row_count": 3,
       "columns": [
        {
         "name": "cities",
         "dtype": "object",
         "stats": {
          "unique_count": 3,
          "nan_count": 0,
          "categories": [
           {
            "name": "Miami",
            "count": 1
           },
           {
            "name": "Boston",
            "count": 1
           },
           {
            "name": "Detroit",
            "count": 1
           }
          ]
         }
        },
        {
         "name": "populations",
         "dtype": "object",
         "stats": {
          "unique_count": 3,
          "nan_count": 0,
          "categories": [
           {
            "name": "467968",
            "count": 1
           },
           {
            "name": "684379",
            "count": 1
           },
           {
            "name": "674841",
            "count": 1
           }
          ]
         }
        },
        {
         "name": "_deepnote_index_column",
         "dtype": "int64"
        }
       ],
       "rows": [
        {
         "cities": "Miami",
         "populations": "467968",
         "_deepnote_index_column": 0
        },
        {
         "cities": "Boston",
         "populations": "684379",
         "_deepnote_index_column": 1
        },
        {
         "cities": "Detroit",
         "populations": "674841",
         "_deepnote_index_column": 2
        }
       ]
      },
      "text/plain": "    cities populations\n0    Miami      467968\n1   Boston      684379\n2  Detroit      674841",
      "text/html": "<div>\n<style scoped>\n    .dataframe tbody tr th:only-of-type {\n        vertical-align: middle;\n    }\n\n    .dataframe tbody tr th {\n        vertical-align: top;\n    }\n\n    .dataframe thead th {\n        text-align: right;\n    }\n</style>\n<table border=\"1\" class=\"dataframe\">\n  <thead>\n    <tr style=\"text-align: right;\">\n      <th></th>\n      <th>cities</th>\n      <th>populations</th>\n    </tr>\n  </thead>\n  <tbody>\n    <tr>\n      <th>0</th>\n      <td>Miami</td>\n      <td>467968</td>\n    </tr>\n    <tr>\n      <th>1</th>\n      <td>Boston</td>\n      <td>684379</td>\n    </tr>\n    <tr>\n      <th>2</th>\n      <td>Detroit</td>\n      <td>674841</td>\n    </tr>\n  </tbody>\n</table>\n</div>"
     },
     "metadata": {}
    }
   ],
   "execution_count": 9
  },
  {
   "cell_type": "code",
   "source": "df_pops['populations'] = df_pops['populations'].astype(int) # converts values to integers",
   "metadata": {
    "cell_id": "e8fb1fc4ecac4f81991bcc7979d3f3b5",
    "tags": [],
    "deepnote_to_be_reexecuted": false,
    "source_hash": "e0631897",
    "execution_start": 1647984358980,
    "execution_millis": 0,
    "deepnote_cell_type": "code",
    "deepnote_cell_height": 81
   },
   "outputs": [],
   "execution_count": 10
  },
  {
   "cell_type": "code",
   "source": "df_pops",
   "metadata": {
    "cell_id": "081c425e5c7149eb8723679d9def4da1",
    "tags": [],
    "deepnote_to_be_reexecuted": false,
    "source_hash": "e7de0da5",
    "execution_start": 1647984381238,
    "execution_millis": 3,
    "deepnote_cell_type": "code",
    "deepnote_cell_height": 311
   },
   "outputs": [
    {
     "output_type": "execute_result",
     "execution_count": 11,
     "data": {
      "application/vnd.deepnote.dataframe.v3+json": {
       "column_count": 2,
       "row_count": 3,
       "columns": [
        {
         "name": "cities",
         "dtype": "object",
         "stats": {
          "unique_count": 3,
          "nan_count": 0,
          "categories": [
           {
            "name": "Miami",
            "count": 1
           },
           {
            "name": "Boston",
            "count": 1
           },
           {
            "name": "Detroit",
            "count": 1
           }
          ]
         }
        },
        {
         "name": "populations",
         "dtype": "int64",
         "stats": {
          "unique_count": 3,
          "nan_count": 0,
          "min": "467968",
          "max": "684379",
          "histogram": [
           {
            "bin_start": 467968,
            "bin_end": 489609.1,
            "count": 1
           },
           {
            "bin_start": 489609.1,
            "bin_end": 511250.2,
            "count": 0
           },
           {
            "bin_start": 511250.2,
            "bin_end": 532891.3,
            "count": 0
           },
           {
            "bin_start": 532891.3,
            "bin_end": 554532.4,
            "count": 0
           },
           {
            "bin_start": 554532.4,
            "bin_end": 576173.5,
            "count": 0
           },
           {
            "bin_start": 576173.5,
            "bin_end": 597814.6,
            "count": 0
           },
           {
            "bin_start": 597814.6,
            "bin_end": 619455.7,
            "count": 0
           },
           {
            "bin_start": 619455.7,
            "bin_end": 641096.8,
            "count": 0
           },
           {
            "bin_start": 641096.8,
            "bin_end": 662737.9,
            "count": 0
           },
           {
            "bin_start": 662737.9,
            "bin_end": 684379,
            "count": 2
           }
          ]
         }
        },
        {
         "name": "_deepnote_index_column",
         "dtype": "int64"
        }
       ],
       "rows": [
        {
         "cities": "Miami",
         "populations": 467968,
         "_deepnote_index_column": 0
        },
        {
         "cities": "Boston",
         "populations": 684379,
         "_deepnote_index_column": 1
        },
        {
         "cities": "Detroit",
         "populations": 674841,
         "_deepnote_index_column": 2
        }
       ]
      },
      "text/plain": "    cities  populations\n0    Miami       467968\n1   Boston       684379\n2  Detroit       674841",
      "text/html": "<div>\n<style scoped>\n    .dataframe tbody tr th:only-of-type {\n        vertical-align: middle;\n    }\n\n    .dataframe tbody tr th {\n        vertical-align: top;\n    }\n\n    .dataframe thead th {\n        text-align: right;\n    }\n</style>\n<table border=\"1\" class=\"dataframe\">\n  <thead>\n    <tr style=\"text-align: right;\">\n      <th></th>\n      <th>cities</th>\n      <th>populations</th>\n    </tr>\n  </thead>\n  <tbody>\n    <tr>\n      <th>0</th>\n      <td>Miami</td>\n      <td>467968</td>\n    </tr>\n    <tr>\n      <th>1</th>\n      <td>Boston</td>\n      <td>684379</td>\n    </tr>\n    <tr>\n      <th>2</th>\n      <td>Detroit</td>\n      <td>674841</td>\n    </tr>\n  </tbody>\n</table>\n</div>"
     },
     "metadata": {}
    }
   ],
   "execution_count": 11
  },
  {
   "cell_type": "code",
   "source": "fig=df_pops.plot.bar(x='cities', y='populations',color=['red','blue','green'])",
   "metadata": {
    "cell_id": "a169f6a0bbce4e84a09ee8f1b674a304",
    "tags": [],
    "deepnote_to_be_reexecuted": false,
    "source_hash": "e5da5f4",
    "execution_start": 1647986156578,
    "execution_millis": 329,
    "deepnote_cell_type": "code",
    "deepnote_cell_height": 386,
    "deepnote_output_heights": [
     289
    ]
   },
   "outputs": [
    {
     "data": {
      "text/plain": "<Figure size 432x288 with 1 Axes>",
      "image/png": "[encoded data removed]"
     },
     "metadata": {
      "needs_background": "light",
      "image/png": {
       "width": 393,
       "height": 287
      }
     },
     "output_type": "display_data"
    }
   ],
   "execution_count": 13
  },
  {
   "cell_type": "markdown",
   "source": "<a style='text-decoration:none;line-height:16px;display:flex;color:#5B5B62;padding:10px;justify-content:end;' href='https://deepnote.com?utm_source=created-in-deepnote-cell&projectId=fa74aaa6-5dde-400c-940e-f862939651f7' target=\"_blank\">\n<img alt='Created in deepnote.com' style='display:inline;max-height:16px;margin:0px;margin-right:7.5px;' src='data:image/svg+xml;base64,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' > </img>\nCreated in <span style='font-weight:600;margin-left:4px;'>Deepnote</span></a>",
   "metadata": {
    "tags": [],
    "created_in_deepnote_cell": true,
    "deepnote_cell_type": "markdown"
   }
  }
 ],
 "nbformat": 4,
 "nbformat_minor": 2,
 "metadata": {
  "orig_nbformat": 2,
  "deepnote": {
   "is_reactive": false
  },
  "deepnote_notebook_id": "25dee6ea-580c-4f20-9ac0-cf1fd5174de2",
  "deepnote_execution_queue": []
 }
}